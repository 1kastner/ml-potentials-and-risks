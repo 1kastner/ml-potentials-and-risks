{
 "cells": [
  {
   "cell_type": "markdown",
   "metadata": {},
   "source": [
    "# k-fold Validierung\n",
    "\n",
    "Wie im vorherhigen Jupyter Notebook `01 Tennisspielen bei verschiedenem Wetter.ipynb` werden nun zunächst die Daten eingelesen.\n",
    "Weil dies schon bekannt ist, verzichten wir auf die Visualisierung der Zwischenschritte."
   ]
  },
  {
   "cell_type": "code",
   "execution_count": null,
   "metadata": {},
   "outputs": [],
   "source": [
    "import pandas as pd\n",
    "import sklearn.metrics\n",
    "import sklearn.tree\n",
    "\n",
    "df = pd.read_csv(\"../../02-erste-ml-experimente/tennis.tsv\", sep=\" \\t\", engine=\"python\")\n",
    "eingabe = pd.get_dummies(df[[\"Outlook\", \"Temperature\", \"Humidity\", \"Wind\"]])\n",
    "ziel = df[[\"Play Tennis?\"]]\n",
    "dt = sklearn.tree.DecisionTreeClassifier()"
   ]
  },
  {
   "cell_type": "markdown",
   "metadata": {},
   "source": [
    "Eine k-fold-Validierung kann z. B. mithilfe der Bibliothek scikit-learn durchgeführt werden.\n",
    "Damit spart man sich die fehlerträchtige Implementierung."
   ]
  },
  {
   "cell_type": "code",
   "execution_count": null,
   "metadata": {},
   "outputs": [],
   "source": [
    "from sklearn.model_selection import KFold  # Importiere Klasse\n",
    "kf = KFold(n_splits=5)                     # Unterteile einen späteren Datensatz in fünf Teile\n",
    "kfold_split = list(kf.split(eingabe))      # Verwende den obigen Datensatz"
   ]
  },
  {
   "cell_type": "markdown",
   "metadata": {},
   "source": [
    "Nun können wir die oben initialisierte Unterteilung verwenden.\n",
    "Die Print-Ausgabe verdeutlicht das Vorgehen."
   ]
  },
  {
   "cell_type": "code",
   "execution_count": null,
   "metadata": {},
   "outputs": [],
   "source": [
    "test_accuracies = []\n",
    "\n",
    "for train_index, test_index in kfold_split:\n",
    "    print(\"Einteilung: \")\n",
    "    print(\"  Zeilen fürs Training: \", train_index)\n",
    "    print(\"  Zeilen fürn Test:     \", test_index)\n",
    "    dt.fit(eingabe.iloc[train_index], ziel.iloc[train_index])\n",
    "    print(\"  Genauigkeit Training: \", sklearn.metrics.accuracy_score(\n",
    "        dt.predict(eingabe.iloc[train_index]), ziel.iloc[train_index]))\n",
    "    test_accuracy = sklearn.metrics.accuracy_score(\n",
    "        dt.predict(eingabe.iloc[test_index]), ziel.iloc[test_index])\n",
    "    print(\"  Genauigkeit Test:     \", test_accuracy)\n",
    "    test_accuracies.append(test_accuracy)"
   ]
  },
  {
   "cell_type": "markdown",
   "metadata": {},
   "source": [
    "Für Abschlussberichte wird meistens die Genauigkeit für den Test-Datensatz verwendet."
   ]
  },
  {
   "cell_type": "code",
   "execution_count": null,
   "metadata": {},
   "outputs": [],
   "source": [
    "test_accuracies"
   ]
  },
  {
   "cell_type": "markdown",
   "metadata": {},
   "source": [
    "Die Werte schwanken zwischen 33 % und 100 %.\n",
    "Mit dem Modul `statistics` können deskriptive Statistiken wie das arithmetische Mittel berechnet werden."
   ]
  },
  {
   "cell_type": "code",
   "execution_count": null,
   "metadata": {},
   "outputs": [],
   "source": [
    "import statistics\n",
    "statistics.mean(test_accuracies)"
   ]
  },
  {
   "cell_type": "markdown",
   "metadata": {},
   "source": [
    "In 63 % der Fälle sagt nun der Entscheidungsbaum das korrekte Ergebnis voraus.\n",
    "Damit ist er besser als die Vorhersage \"immer ja\".\n",
    "\n",
    "Was für einen Entscheidungsbaum haben wir denn erhalten?\n",
    "Verwenden "
   ]
  },
  {
   "cell_type": "code",
   "execution_count": null,
   "metadata": {},
   "outputs": [],
   "source": [
    "import matplotlib.pyplot as plt\n",
    "from sklearn import tree\n",
    "fig, ax = plt.subplots(figsize=(20, 10))\n",
    "tree.plot_tree(dt, ax=ax, feature_names=eingabe.columns)\n",
    "plt.show()"
   ]
  },
  {
   "cell_type": "markdown",
   "metadata": {},
   "source": [
    "<a rel=\"license\" href=\"http://creativecommons.org/licenses/by/4.0/\"><img alt=\"Creative Commons Lizenzvertrag\" style=\"border-width:0; display:inline\" src=\"https://i.creativecommons.org/l/by/4.0/88x31.png\" /></a> &nbsp;&nbsp;&nbsp;&nbsp;Dieses Werk von Marvin Kastner ist lizenziert unter einer <a rel=\"license\" href=\"http://creativecommons.org/licenses/by/4.0/\">Creative Commons Namensnennung 4.0 International Lizenz</a>."
   ]
  }
 ],
 "metadata": {
  "kernelspec": {
   "display_name": "Python [conda env:ml-potentials-and-risks] *",
   "language": "python",
   "name": "conda-env-ml-potentials-and-risks-py"
  },
  "language_info": {
   "codemirror_mode": {
    "name": "ipython",
    "version": 3
   },
   "file_extension": ".py",
   "mimetype": "text/x-python",
   "name": "python",
   "nbconvert_exporter": "python",
   "pygments_lexer": "ipython3",
   "version": "3.9.10"
  },
  "varInspector": {
   "cols": {
    "lenName": 16,
    "lenType": 16,
    "lenVar": 40
   },
   "kernels_config": {
    "python": {
     "delete_cmd_postfix": "",
     "delete_cmd_prefix": "del ",
     "library": "var_list.py",
     "varRefreshCmd": "print(var_dic_list())"
    },
    "r": {
     "delete_cmd_postfix": ") ",
     "delete_cmd_prefix": "rm(",
     "library": "var_list.r",
     "varRefreshCmd": "cat(var_dic_list()) "
    }
   },
   "types_to_exclude": [
    "module",
    "function",
    "builtin_function_or_method",
    "instance",
    "_Feature"
   ],
   "window_display": false
  }
 },
 "nbformat": 4,
 "nbformat_minor": 4
}
