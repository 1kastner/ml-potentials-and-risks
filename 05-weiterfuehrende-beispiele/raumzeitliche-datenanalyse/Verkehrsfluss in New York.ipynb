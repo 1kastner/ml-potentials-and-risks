{
 "cells": [
  {
   "cell_type": "markdown",
   "metadata": {},
   "source": [
    "# Verkehrsfluss\n",
    "\n",
    "Die Stadt New York teilt ausführliche Verkehrsinformationen\n",
    "[hier](https://data.cityofnewyork.us/Transportation/Real-Time-Traffic-Speed-Data/qkm5-nuaq)\n",
    "und eine Erklärung der Daten befindet sich\n",
    "[hier](https://data.cityofnewyork.us/api/views/i4gi-tjb9/files/cc7f3b15-58b7-46e3-94e7-4c5753c3a8b8?download=false&filename=metadata_trafficspeeds.pdf).\n",
    "Diese Verkehrsdaten möchten wir dahingehend untersuchen, ob sich für bestimmte Straßenabschnitte wiederkehrende Muster ergeben."
   ]
  },
  {
   "cell_type": "code",
   "execution_count": null,
   "metadata": {},
   "outputs": [],
   "source": [
    "# Die folgenden Pakete sind nicht Teil der Standard-Conda-Umgebung.\n",
    "# Beim ersten Ausführen des Jupyter Notebooks müssen Sie diese also zusätzlich installieren. Falls sie eines der Pakete installieren\n",
    "# wollen, entfernen Sie die Raute und führen die Zelle aus. Fügen Sie am besten danach die Raute sicherheitshalber wieder hinzu, damit\n",
    "# beim nächsten Ausführen dieser Zelle nicht erneut versucht wird, die Bibliothek zu installieren.\n",
    "\n",
    "# %pip install sodapy\n",
    "\n",
    "# %pip install folium"
   ]
  },
  {
   "cell_type": "code",
   "execution_count": null,
   "metadata": {},
   "outputs": [],
   "source": [
    "import os\n",
    "\n",
    "import pandas as pd\n",
    "from pandas.plotting import autocorrelation_plot\n",
    "import matplotlib.pyplot as plt\n",
    "\n",
    "from sodapy import Socrata\n",
    "\n",
    "pd.options.display.max_rows = 10  # zeige maximal 10 Einträge eines DataFrames an"
   ]
  },
  {
   "cell_type": "markdown",
   "metadata": {},
   "source": [
    "Als Erstes werden die Positionen der Streckenabschnitte geladen.\n",
    "Eine ausführliche Erklärung, was die Attribute bedeuten, ist [hier](https://dev.socrata.com/foundry/data.cityofnewyork.us/i4gi-tjb9) zu finden.\n",
    "\n",
    "Allerdings bremst die Stadt New York, wenn es zu viele Anfragen gleichzeitig gibt. Sollte der Prozess zu lange dauern, benötigen Sie einen sogenannten App Token zur Identifikation, der ebenfalls [hier](https://dev.socrata.com/foundry/data.cityofnewyork.us/i4gi-tjb9) beantragt werden kann.\n",
    "\n",
    "Falls Sie einen App Token erhalten haben, schreiben Sie diesen anstelle des `None` in folgender Zeile:"
   ]
  },
  {
   "cell_type": "code",
   "execution_count": null,
   "metadata": {},
   "outputs": [],
   "source": [
    "app_token = None  # <-- hier den Wert händisch eintragen oder einfach auf None stehen lassen\n",
    "\n",
    "if app_token is None and os.path.isfile(\".app_token.txt\"):\n",
    "    with open(\".app_token.txt\") as f:\n",
    "        app_token = f.read()\n",
    "\n",
    "print(\"App Token: \", app_token)"
   ]
  },
  {
   "cell_type": "markdown",
   "metadata": {},
   "source": [
    "Nun können wir den Client initialisieren."
   ]
  },
  {
   "cell_type": "code",
   "execution_count": null,
   "metadata": {},
   "outputs": [],
   "source": [
    "NAME_OF_DATASET = \"i4gi-tjb9\"\n",
    "\n",
    "client = Socrata(\n",
    "    \"data.cityofnewyork.us\",\n",
    "    app_token,\n",
    "    timeout=60\n",
    ")"
   ]
  },
  {
   "cell_type": "markdown",
   "metadata": {},
   "source": [
    "Zunächst laden wir die Meta-Daten herunter."
   ]
  },
  {
   "cell_type": "code",
   "execution_count": null,
   "metadata": {
    "scrolled": true,
    "tags": []
   },
   "outputs": [],
   "source": [
    "metadata = client.get_metadata(NAME_OF_DATASET)\n",
    "\n",
    "metadata"
   ]
  },
  {
   "cell_type": "markdown",
   "metadata": {},
   "source": [
    "Hiermit wird nun die PDF mit den weiterführenden Informationen heruntergeladen.\n",
    "Der Pfad befindet sich in der Ausgabe."
   ]
  },
  {
   "cell_type": "code",
   "execution_count": null,
   "metadata": {},
   "outputs": [],
   "source": [
    "client.download_attachments(\n",
    "    NAME_OF_DATASET,\n",
    "    content_type=\"json\",\n",
    "    download_dir=\".\"\n",
    ")"
   ]
  },
  {
   "cell_type": "markdown",
   "metadata": {},
   "source": [
    "Nun können wir uns die ersten 5000 Datenpunkte anschauen."
   ]
  },
  {
   "cell_type": "code",
   "execution_count": null,
   "metadata": {
    "scrolled": true,
    "tags": []
   },
   "outputs": [],
   "source": [
    "results = client.get(NAME_OF_DATASET, limit=5000)\n",
    "\n",
    "results"
   ]
  },
  {
   "cell_type": "markdown",
   "metadata": {},
   "source": [
    "Wir setzen fest, dass wir die letzten 5000 Datenpunkte erhalten wollen."
   ]
  },
  {
   "cell_type": "code",
   "execution_count": null,
   "metadata": {},
   "outputs": [],
   "source": [
    "df = pd.DataFrame.from_records(results)\n",
    "df.head()"
   ]
  },
  {
   "cell_type": "code",
   "execution_count": null,
   "metadata": {},
   "outputs": [],
   "source": [
    "df.info()"
   ]
  },
  {
   "cell_type": "markdown",
   "metadata": {},
   "source": [
    "In diesem Kontext heißt `object`, dass nur Zeichenketten vorliegen.\n",
    "`data_as_of` ist dem Namen nach aber keine Zeichenkette, sondern ein Datum.\n",
    "Somit ist die Repräsentation hier noch nicht ganz optimal."
   ]
  },
  {
   "cell_type": "code",
   "execution_count": null,
   "metadata": {},
   "outputs": [],
   "source": [
    "df = df.assign(data_as_of__as_date=df[\"data_as_of\"].astype('datetime64[ns]'))\n",
    "df.head()"
   ]
  },
  {
   "cell_type": "markdown",
   "metadata": {},
   "source": [
    "Das Attribut `link_id` steht für die Station.\n",
    "Nun wollen wir erst einmal nur eine Station betrachten, und zwar die mit der link_id `4616215`.\n",
    "Der Aufruf `df.info()` hat als eine Zeile `link_id 5000 non-null object` zurückgegeben.\n",
    "Der Begriff `object` steht hier für Text, d. h. wir arbeiten nicht mit Zahlen, sondern Zeichenketten.\n",
    "Deswegen muss der Wert in Anführungszeichen stehen."
   ]
  },
  {
   "cell_type": "code",
   "execution_count": null,
   "metadata": {
    "scrolled": true
   },
   "outputs": [],
   "source": [
    "examined_link_id = \"4616215\"\n",
    "\n",
    "df_specific_link_id = df[df.link_id == examined_link_id]\n",
    "df_specific_link_id.head()"
   ]
  },
  {
   "cell_type": "code",
   "execution_count": null,
   "metadata": {},
   "outputs": [],
   "source": [
    "df_specific_link_id.info()"
   ]
  },
  {
   "cell_type": "markdown",
   "metadata": {},
   "source": [
    "## Visualisierung der betrachteten Strecke\n",
    "\n",
    "Zunächst visualisieren wir uns eine spezifische Strecke, die ausgewertet wird.\n",
    "Dafür wird der Text aus der Tabelle in eine Liste von Listen von Gradzahlen umgerechnet.\n",
    "`latlon` steht hier für Latitude-Longitude (Längengrad-Breitengrad) Koordinaten."
   ]
  },
  {
   "cell_type": "code",
   "execution_count": null,
   "metadata": {},
   "outputs": [],
   "source": [
    "latlons = []\n",
    "coordinate_text = df_specific_link_id.iloc[0][\"link_points\"]\n",
    "print(\"Coordinate text:\", coordinate_text)\n",
    "for latlon in coordinate_text.split(\" \"):\n",
    "    lat, lon = latlon.split(\",\")\n",
    "    lat, lon = float(lat), float(lon)\n",
    "    latlons.append((lat, lon))\n",
    "\n",
    "latlons"
   ]
  },
  {
   "cell_type": "markdown",
   "metadata": {},
   "source": [
    "Diese kann man nun auf einer Karte darstellen.\n",
    "Dafür bietet sich `folium` an."
   ]
  },
  {
   "cell_type": "code",
   "execution_count": null,
   "metadata": {
    "tags": []
   },
   "outputs": [],
   "source": [
    "import folium\n",
    "\n",
    "m = folium.Map(latlons[0], zoom_start=11)\n",
    "folium.features.PolyLine(latlons, weight=8).add_to(m)\n",
    "display(m)"
   ]
  },
  {
   "cell_type": "markdown",
   "metadata": {},
   "source": [
    "### 2.1 Bereinigen der Daten\n",
    "\n",
    "Häufig kommt es bei solchen CSV-Dateien zu Sprüngen, also das Einträge nicht streng der zeitlichen Reihenfolge nach sortiert sind.\n",
    "Dies ist häufig mit Problemen in den technischen Systemen erklärbar.\n",
    "Ob diese Schritte notwendig sind, hängt von der `link_id` ab!"
   ]
  },
  {
   "cell_type": "code",
   "execution_count": null,
   "metadata": {},
   "outputs": [],
   "source": [
    "print(\"is monotonic increasing: \", df_specific_link_id.index.is_monotonic_increasing)"
   ]
  },
  {
   "cell_type": "code",
   "execution_count": null,
   "metadata": {},
   "outputs": [],
   "source": [
    "# Zum Sortieren, falls obiger Code 'False' ausgibt\n",
    "df_specific_link_id = df_specific_link_id.sort_index()\n",
    "print(\"is monotonic increasing: \", df_specific_link_id.index.is_monotonic_increasing)"
   ]
  },
  {
   "cell_type": "markdown",
   "metadata": {},
   "source": [
    "Nun stellt sich die Frage, wie häufig die Daten übermittelt werden.\n",
    "Mit folgendem Trick bekommt man eine Übersicht:"
   ]
  },
  {
   "cell_type": "markdown",
   "metadata": {},
   "source": [
    "### Attribut speed\n",
    "\n",
    "Im Folgenden werden die Werte geplottet, um einen visuellen Eindruck zu erhalten."
   ]
  },
  {
   "cell_type": "code",
   "execution_count": null,
   "metadata": {},
   "outputs": [],
   "source": [
    "speed_series = df_specific_link_id.set_index(\"data_as_of__as_date\").speed.astype(\"float\")\n",
    "speed_series"
   ]
  },
  {
   "cell_type": "code",
   "execution_count": null,
   "metadata": {},
   "outputs": [],
   "source": [
    "speed_series.plot(style=\"-\")\n",
    "plt.show()"
   ]
  },
  {
   "cell_type": "markdown",
   "metadata": {},
   "source": [
    "# Prognose\n",
    "\n",
    "Damit wir nun den Verkehr über einen längeren Zeitraum betrachten können, werden wir uns auf einen Knoten beschränken und dort erneut Daten der Stadt New York über die API anfragen.\n",
    "Eine einfache Dokumentation lässt sich wie immer über den Fragezeichen-Operator abfragen."
   ]
  },
  {
   "cell_type": "code",
   "execution_count": null,
   "metadata": {},
   "outputs": [],
   "source": [
    "?Socrata.get"
   ]
  },
  {
   "cell_type": "markdown",
   "metadata": {},
   "source": [
    "Nun möchten wir die abgerufenen Informationen von Vornherein auf das Wesentliche beschränken."
   ]
  },
  {
   "cell_type": "code",
   "execution_count": null,
   "metadata": {
    "scrolled": true,
    "tags": []
   },
   "outputs": [],
   "source": [
    "results = client.get(\n",
    "    NAME_OF_DATASET,\n",
    "    select=\"data_as_of, speed\",\n",
    "    where=f\"link_id = '{examined_link_id}' AND data_as_of >= '2021-12-01'\",\n",
    "    limit=(12 * 24 * 30 * 3)\n",
    ")\n",
    "\n",
    "results"
   ]
  },
  {
   "cell_type": "code",
   "execution_count": null,
   "metadata": {},
   "outputs": [],
   "source": [
    "df = pd.DataFrame.from_records(results)\n",
    "df.info()\n",
    "df.head()"
   ]
  },
  {
   "cell_type": "markdown",
   "metadata": {},
   "source": [
    "Für eine Weiterverarbeitung sollte nun der Text in die passende Einheit umgewandelt werden, sprich in ein Datum oder in eine Fließkommazahl."
   ]
  },
  {
   "cell_type": "code",
   "execution_count": null,
   "metadata": {},
   "outputs": [],
   "source": [
    "df[\"data_as_of\"] = df[\"data_as_of\"].astype('datetime64[ns]')\n",
    "df[\"speed\"] = df[\"speed\"].astype('float')\n",
    "df.set_index(\"data_as_of\", inplace=True)\n",
    "df.info()\n",
    "df.head()"
   ]
  },
  {
   "cell_type": "markdown",
   "metadata": {},
   "source": [
    "Auch hier kann es wieder sein, dass die Reihenfolge der Daten nicht stimmt.\n",
    "Manche Funktionen von pandas funktionieren dann nicht.\n",
    "Deswegen sortieren wir die Daten vor."
   ]
  },
  {
   "cell_type": "code",
   "execution_count": null,
   "metadata": {},
   "outputs": [],
   "source": [
    "print(\"is monotonic increasing: \", df.index.is_monotonic_increasing)\n",
    "df = df.sort_index()\n",
    "print(\"is monotonic increasing: \", df.index.is_monotonic_increasing)"
   ]
  },
  {
   "cell_type": "markdown",
   "metadata": {},
   "source": [
    "Nun wollen wir die Geschwindigkeit von gestern betrachten."
   ]
  },
  {
   "cell_type": "code",
   "execution_count": null,
   "metadata": {},
   "outputs": [],
   "source": [
    "import datetime\n",
    "\n",
    "today = datetime.datetime.now()\n",
    "\n",
    "yesterday = today - datetime.timedelta(days=1)\n",
    "\n",
    "yesterday_as_date = yesterday.date()\n",
    "\n",
    "yesterday_as_date.isoformat()"
   ]
  },
  {
   "cell_type": "code",
   "execution_count": null,
   "metadata": {},
   "outputs": [],
   "source": [
    "df.speed[yesterday_as_date.isoformat()].plot()\n",
    "plt.show()"
   ]
  },
  {
   "cell_type": "markdown",
   "metadata": {},
   "source": [
    "# 2.3 Weiterführende Auswertungen\n",
    "\n",
    "Für sich wiederholende Muster gibt es verschiedene Möglichkeiten, diese zu visualisieren.\n",
    "Jede Methode hat ihre eigenen Stärken und Schwächen."
   ]
  },
  {
   "cell_type": "code",
   "execution_count": null,
   "metadata": {},
   "outputs": [],
   "source": [
    "df = df.loc[\"2021-11\":\"2021-12\"]\n",
    "df"
   ]
  },
  {
   "cell_type": "markdown",
   "metadata": {},
   "source": [
    "### Plots mit Gruppierung\n",
    "\n",
    "Anstelle der strikten zeitlichen Abfolge können Plots auch anhand verschiedener anderer Kriterien gruppiert und dann ausgewertet werden.\n",
    "Dies geschieht in pandas mit der Methode `groupby`.\n",
    "\n",
    "Nun wird die durchschnittliche Geschwindigkeit für jede Stunde des Tages geplottet, also von 00:00 bis 23:00."
   ]
  },
  {
   "cell_type": "code",
   "execution_count": null,
   "metadata": {},
   "outputs": [],
   "source": [
    "def extract_hour(pandas_timestamp):\n",
    "    return pandas_timestamp.hour\n",
    "\n",
    "\n",
    "hourly_speed_mean = df.speed.groupby(extract_hour).agg('mean')\n",
    "hourly_speed_mean.plot()\n",
    "plt.show()"
   ]
  },
  {
   "cell_type": "markdown",
   "metadata": {},
   "source": [
    "(a) Interpretieren Sie den Plot"
   ]
  },
  {
   "cell_type": "markdown",
   "metadata": {},
   "source": [
    "Nun wird die Standardabweichung dargestellt.\n",
    "(b) Wie kann man diese nun interpretieren?"
   ]
  },
  {
   "cell_type": "code",
   "execution_count": null,
   "metadata": {},
   "outputs": [],
   "source": [
    "hourly_speed_std = df.speed.groupby(extract_hour).agg('std')\n",
    "hourly_speed_std.plot()\n",
    "plt.show()"
   ]
  },
  {
   "cell_type": "markdown",
   "metadata": {},
   "source": [
    "## 2.5 Autokorrelation\n",
    "\n",
    "Die Autokorrelation gibt Aufschluss über sich wiederholende Muster.\n",
    "Wie genau kann man die Abbildung interpretieren?\n",
    "Wie vielen Minuten entspricht der Lag von 1? \n",
    "Wie groß ist die erwartete Zeitspanne für die Autokorrelation? \n",
    "Wie groß ist in diesem Beispiel der Lag, den man aus der Alltagserfahrung heraus erwarten würde?"
   ]
  },
  {
   "cell_type": "markdown",
   "metadata": {},
   "source": [
    "\n"
   ]
  },
  {
   "cell_type": "code",
   "execution_count": null,
   "metadata": {},
   "outputs": [],
   "source": [
    "autocorrelation_plot(df.speed, alpha=0.7)\n",
    "plt.xlim([0, 5000])  # Begrenze Plot auf die ersten 5000 Einträge\n",
    "plt.show()"
   ]
  },
  {
   "cell_type": "markdown",
   "metadata": {},
   "source": [
    "## Prognose der zweiten Monatshälfte anhand der ersten\n",
    "\n",
    "Wie lässt sich die zweite Monatshälfte mithilfe der ersten Monatshälfte vorhersagen?\n",
    "Vermutlich lassen sich hier die Prinzipien des vorherigen Notebooks zum Thema Gezeiten anwenden."
   ]
  },
  {
   "cell_type": "code",
   "execution_count": null,
   "metadata": {},
   "outputs": [],
   "source": [
    "n = len(df)\n",
    "df_train, df_test = df.iloc[:(n // 2)], df.iloc[(n // 2):]\n",
    "df_train.info()\n",
    "df_test.info()\n",
    "df_train"
   ]
  },
  {
   "cell_type": "markdown",
   "metadata": {},
   "source": [
    "### 2.6.1 Mittelwert als Baseline\n",
    "\n",
    "Eine sehr einfache Annahme ist, dass ein Zufallsprozess vorliegt, der der Gauß'schen Normalverteilung folgt.\n",
    "Alle Ausschläge werden somit als zufällig angesehen.\n",
    "Für Normalverteilungen ist der Mittelwert ein guter Schätzer ist."
   ]
  },
  {
   "cell_type": "code",
   "execution_count": null,
   "metadata": {},
   "outputs": [],
   "source": [
    "mean_of_train = df_train.speed.mean()\n",
    "average_as_estimator = (mean_of_train - df_test.speed)\n",
    "rmse_with_average = (average_as_estimator ** 2).mean() ** .5\n",
    "mean_of_train, rmse_with_average"
   ]
  },
  {
   "cell_type": "code",
   "execution_count": null,
   "metadata": {},
   "outputs": [],
   "source": [
    "average_as_estimator.plot()\n",
    "plt.show()"
   ]
  },
  {
   "cell_type": "markdown",
   "metadata": {},
   "source": [
    "Jedes Verfahren, das auch nur etwas komplexer als die Mittelwertberechnung ist und dabei höhere Fehler produziert, sollte nur dann verwendet werden, wenn es dafür sehr gute Gründe gibt.\n",
    "Allgemein gilt, das einfache Mittel bevorzugt werden sollen."
   ]
  },
  {
   "cell_type": "markdown",
   "metadata": {},
   "source": [
    "### 2.6.2 Naiver Schätzer\n",
    "\n",
    "\n",
    "Der nun vorgestellte naive Schätzer funktioniert vergleichbar mit dem naiven Schätzer der Gezeiten in Abschnitt 1.4.2, es wird wieder nur ein Wert aus der Vergangenhet genommen um die Zukunft vorherzusagen. Diesmal liegt jedoch nicht für jeden Zeitpunkt ein Eintrag vor.\n",
    "Deswegen wird eine Hilfsmethode verwendet, die den nächstgelegenen Eintrag zurückgibt.\n",
    "Bei den Gezeiten haben wir einen Zyklus von 12h und 25Minuten gewählt. Wie lange ist ein Zyklus in diesem Fall?\n",
    "\n",
    "(a) Tragen Sie einen Wert ein, der sich aus der Domäne heraus rechtfertigen lässt und begründen Sie Ihre Entscheidung."
   ]
  },
  {
   "cell_type": "code",
   "execution_count": null,
   "metadata": {},
   "outputs": [],
   "source": [
    "from traffic_time_series_utils import get_nearest_entry\n",
    "\n",
    "zyklus_laenge_in_stunden = 1  # Hier müssen Sie die Zykluslänge eintragen\n",
    "\n",
    "\n",
    "def naive_estimator(this_series, t):\n",
    "    if t < first_day:\n",
    "        print(\"Nur für Prognose, nicht in die Vergangenheit\")\n",
    "        return\n",
    "    nearest_entry = get_nearest_entry(this_series, t)\n",
    "    if nearest_entry is not None:\n",
    "        return nearest_entry  # Gebe tatsächlichen Wert zurück\n",
    "    else:\n",
    "        t = t - pd.Timedelta(hours=zyklus_laenge_in_stunden)  # Betrachte Wert des vorherigen Zyklus\n",
    "        return naive_estimator(this_series, t)"
   ]
  },
  {
   "cell_type": "markdown",
   "metadata": {},
   "source": [
    "Definieren Sie `first_day` und `last_day` anhand des DataFrames `df_train`, wie es bereits bei den Gezeiten vorgenommen worden ist.\n",
    "\n",
    "(b) Wie bekommen Sie das Datum des ersten Eintrages von df_train?\n",
    "\n",
    "(c) Wie bekommen Sie das Datum des letzten Eintrages von df_train?"
   ]
  },
  {
   "cell_type": "code",
   "execution_count": null,
   "metadata": {},
   "outputs": [],
   "source": [
    "first_day = ...  # Tragen Sie hier den ersten Tag ein\n",
    "last_day = ...  # Tragen Sie hier den letzten Tag ein\n",
    "\n",
    "first_day, last_day"
   ]
  },
  {
   "cell_type": "markdown",
   "metadata": {},
   "source": [
    "(d) Benutzen Sie nun die Schätzfunktion, um für die zweite Hälfte des Monats den Verkehr zu schätzen.\n",
    "Hier lohnt sich ebenfalls der Blick in das vorherige Notebook."
   ]
  },
  {
   "cell_type": "code",
   "execution_count": null,
   "metadata": {},
   "outputs": [],
   "source": [
    "estimated = ...\n",
    "estimated_as_series = ...\n",
    "estimated_as_series"
   ]
  },
  {
   "cell_type": "markdown",
   "metadata": {},
   "source": [
    "Plotten Sie nun das Ergebnis der Schätzung gemeinsam mit den tatsächlichen Daten:"
   ]
  },
  {
   "cell_type": "code",
   "execution_count": null,
   "metadata": {},
   "outputs": [],
   "source": [
    "estimated_as_series.plot()\n",
    "df_test.speed.plot()\n",
    "plt.show()"
   ]
  },
  {
   "cell_type": "markdown",
   "metadata": {},
   "source": [
    "(e) Plotten Sie nun den Fehler und ermitteln Sie die Fehler-Statistiken mittels `describe`.\n",
    "Wird die Geschwindigkeit eher über- oder unterschätzt?"
   ]
  },
  {
   "cell_type": "code",
   "execution_count": null,
   "metadata": {},
   "outputs": [],
   "source": [
    "# Ihr Code..."
   ]
  },
  {
   "cell_type": "markdown",
   "metadata": {},
   "source": [
    "(f) Berechnen Sie den Durchschnitt und den RMSE und geben Sie diese an"
   ]
  },
  {
   "cell_type": "code",
   "execution_count": null,
   "metadata": {},
   "outputs": [],
   "source": [
    "# Ihr Code..."
   ]
  },
  {
   "cell_type": "markdown",
   "metadata": {},
   "source": [
    "(g) Ist nun der naive Schätzer oder der Durchschnitt der bessere Schätzer? Woran könnte dies es liegen? Begründen Sie."
   ]
  },
  {
   "cell_type": "code",
   "execution_count": null,
   "metadata": {},
   "outputs": [],
   "source": [
    "# Ihr Code..."
   ]
  },
  {
   "cell_type": "markdown",
   "metadata": {},
   "source": [
    "<a rel=\"license\" href=\"http://creativecommons.org/licenses/by/4.0/\"><img alt=\"Creative Commons Lizenzvertrag\" style=\"border-width:0; display:inline\" src=\"https://i.creativecommons.org/l/by/4.0/88x31.png\" /></a> &nbsp;&nbsp;&nbsp;&nbsp;Dieses Werk von Marvin Kastner ist lizenziert unter einer <a rel=\"license\" href=\"http://creativecommons.org/licenses/by/4.0/\">Creative Commons Namensnennung 4.0 International Lizenz</a>."
   ]
  }
 ],
 "metadata": {
  "kernelspec": {
   "display_name": "Python 3 (ipykernel)",
   "language": "python",
   "name": "python3"
  },
  "language_info": {
   "codemirror_mode": {
    "name": "ipython",
    "version": 3
   },
   "file_extension": ".py",
   "mimetype": "text/x-python",
   "name": "python",
   "nbconvert_exporter": "python",
   "pygments_lexer": "ipython3",
   "version": "3.9.10"
  },
  "varInspector": {
   "cols": {
    "lenName": 16,
    "lenType": 16,
    "lenVar": 40
   },
   "kernels_config": {
    "python": {
     "delete_cmd_postfix": "",
     "delete_cmd_prefix": "del ",
     "library": "var_list.py",
     "varRefreshCmd": "print(var_dic_list())"
    },
    "r": {
     "delete_cmd_postfix": ") ",
     "delete_cmd_prefix": "rm(",
     "library": "var_list.r",
     "varRefreshCmd": "cat(var_dic_list()) "
    }
   },
   "types_to_exclude": [
    "module",
    "function",
    "builtin_function_or_method",
    "instance",
    "_Feature"
   ],
   "window_display": false
  }
 },
 "nbformat": 4,
 "nbformat_minor": 4
}
