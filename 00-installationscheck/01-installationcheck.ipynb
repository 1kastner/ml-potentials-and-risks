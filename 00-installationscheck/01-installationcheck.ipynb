{
 "cells": [
  {
   "cell_type": "markdown",
   "metadata": {},
   "source": [
    "# Installation Check\n",
    "\n",
    "Dieses Jupyter Notebook überprüft, ob man sich in dieser Umgebung befindet und ob die Bibliotheken installiert worden sind."
   ]
  },
  {
   "cell_type": "markdown",
   "metadata": {},
   "source": [
    "## In welcher Conda-Umgebung befinden wir uns?\n",
    "\n",
    "Wenn die IDE Jupyter Notebook aus der richtigen Conda-Umgebung heraus gestartet worden ist,\n",
    "sollte dies `ml-potentials-and-risks` sein.\n",
    "\n",
    "Nun schauen wir uns die Liste der Conda-Umgebungen an.\n",
    "Um die folgende Zelle auszuführen, drücken Sie, während die Zelle markiert ist, entweder oben auf `▶` oder geben Sie gleichzeitig [Umschalt]+[Enter] ein."
   ]
  },
  {
   "cell_type": "code",
   "execution_count": null,
   "metadata": {},
   "outputs": [],
   "source": [
    "%conda env list"
   ]
  },
  {
   "cell_type": "markdown",
   "metadata": {},
   "source": [
    "Das Sternchen markiert die aktuell aktive Umgebung.\n",
    "Dies sollte `ml-potentials-and-risks` sein.\n",
    "Nur falls Sie mybinder benutzen, heißt die Umgebung abweichend `notebook`.\n",
    "Falls dies nicht der Fall ist, haben Sie Jupyter Notebook nicht aus der entsprechenden Umgebung heraus gestartet.\n",
    "Bitte schließen Sie dann den Reiter im Browser, in dem Sie gerade diesen Text sehen.\n",
    "Gehen Sie zurück zur Anleitung und starten Sie JupyterLab über den Anaconda Navigator in der richtigen Umgebung."
   ]
  },
  {
   "cell_type": "markdown",
   "metadata": {},
   "source": [
    "## Welche Python-Version ist installiert?\n",
    "\n",
    "Beim Suchen von Befehlen online ist es manchmal wichtig zu wissen, welchen Python-Interpreter man nutzt.\n",
    "Dies kann über\n",
    "[watermark](https://github.com/rasbt/watermark)\n",
    "herausgefunden werden.\n",
    "Der Befehl zeigt außerdem, welche Hardware automatisch detektiert worden ist.\n",
    "Um die folgende Zelle auszuführen, drücken Sie, während die Zelle markiert ist, entweder oben auf `▶` oder geben Sie gleichzeitig [Umschalt]+[Enter] ein."
   ]
  },
  {
   "cell_type": "code",
   "execution_count": null,
   "metadata": {},
   "outputs": [],
   "source": [
    "%load_ext watermark\n",
    "%watermark"
   ]
  },
  {
   "cell_type": "markdown",
   "metadata": {},
   "source": [
    "## Sind alle Bibliotheken installiert?\n",
    "\n",
    "Bibliotheken fassen häufig benötigte Funktionalitäten zusammen und vereinfachen die Entwicklung in einer Programmiersprache.\n",
    "Alle benötigten Bibliotheken sollten eigentlich bereits automatisch mit dem Erstellen der Umgebung `ml-potentials-and-risks` erstellt werden.\n",
    "Um die folgende Zelle auszuführen, drücken Sie, während die Zelle markiert ist, entweder oben auf `▶` oder geben Sie gleichzeitig [Umschalt]+[Enter] ein."
   ]
  },
  {
   "cell_type": "code",
   "execution_count": null,
   "metadata": {},
   "outputs": [],
   "source": [
    "from importlib import import_module\n",
    "\n",
    "# This is copied from the environment.yml\n",
    "required_libraries_from_environment = \"\"\"\n",
    "  - numpy\n",
    "  - pandas\n",
    "  - openpyxl\n",
    "  - matplotlib\n",
    "  - folium\n",
    "  - scikit-image\n",
    "  - scikit-learn\n",
    "\"\"\"\n",
    "\n",
    "libraries = []\n",
    "for row in required_libraries_from_environment.split(\"\\n\"):\n",
    "    row = row.strip()\n",
    "    if not row:\n",
    "        continue\n",
    "    row = row.replace(\"-\", \"\")\n",
    "    row = row.replace(\"scikit\", \"sk\")\n",
    "    row = row.strip()\n",
    "    libraries.append(row)\n",
    "\n",
    "for lib in libraries:\n",
    "    print(f\"Importing {lib}...\")\n",
    "    lib_module = import_module(lib)\n",
    "    print(f\"{lib} imported in version {lib_module.__version__}\")"
   ]
  },
  {
   "cell_type": "markdown",
   "metadata": {},
   "source": [
    "Falls Sie bei der Installation auf Probleme stoßen sollten, sind die verwendeten Versionen aus den letzten beiden Schritten sehr aufschlussreich bei der Fehlerbehebung!"
   ]
  },
  {
   "cell_type": "markdown",
   "metadata": {},
   "source": [
    "## Weitere Schritte\n",
    "\n",
    "Wenn Sie alle Zellen dieses Jupyter Notebooks abgeschlossen haben, schauen Sie sich gerne diese Einführungsmaterialien an:\n",
    "- [Einführung in Python](../01-einfuehrung-in-toolbox/01%20Einfuehrung%20in%20Python.ipynb):\n",
    "  Hier werden die syntaktischen Grundlagen der Programmiersprache dargestellt.\n",
    "- [Was kann ein Jupyter Notebook](../01-einfuehrung-in-toolbox/02%20Was%20kann%20ein%20Jupyter%20Notebook.ipynb):\n",
    "  Hier wird dass Format \"Jupyter Notebook\" vorgestellt.\n",
    "- [Tipps zu JupyterLab](../01-einfuehrung-in-toolbox/03%20Tipps%20zu%20JupyterLab.ipynb):\n",
    "  Hier gibt es eine Einstiegshilfe in die Entwicklungsumgebung, in der wir uns gerade bewegen."
   ]
  },
  {
   "cell_type": "markdown",
   "metadata": {},
   "source": [
    "<a rel=\"license\" href=\"http://creativecommons.org/licenses/by/4.0/\"><img alt=\"Creative Commons Lizenzvertrag\" style=\"border-width:0; display:inline\" src=\"https://i.creativecommons.org/l/by/4.0/88x31.png\" /></a> &nbsp;&nbsp;&nbsp;&nbsp;Dieses Werk von Marvin Kastner ist lizenziert unter einer <a rel=\"license\" href=\"http://creativecommons.org/licenses/by/4.0/\">Creative Commons Namensnennung 4.0 International Lizenz</a>."
   ]
  }
 ],
 "metadata": {
  "kernelspec": {
   "display_name": "Python 3",
   "language": "python",
   "name": "python3"
  },
  "language_info": {
   "codemirror_mode": {
    "name": "ipython",
    "version": 3
   },
   "file_extension": ".py",
   "mimetype": "text/x-python",
   "name": "python",
   "nbconvert_exporter": "python",
   "pygments_lexer": "ipython3",
   "version": "3.9.7"
  },
  "varInspector": {
   "cols": {
    "lenName": 16,
    "lenType": 16,
    "lenVar": 40
   },
   "kernels_config": {
    "python": {
     "delete_cmd_postfix": "",
     "delete_cmd_prefix": "del ",
     "library": "var_list.py",
     "varRefreshCmd": "print(var_dic_list())"
    },
    "r": {
     "delete_cmd_postfix": ") ",
     "delete_cmd_prefix": "rm(",
     "library": "var_list.r",
     "varRefreshCmd": "cat(var_dic_list()) "
    }
   },
   "types_to_exclude": [
    "module",
    "function",
    "builtin_function_or_method",
    "instance",
    "_Feature"
   ],
   "window_display": false
  }
 },
 "nbformat": 4,
 "nbformat_minor": 4
}
