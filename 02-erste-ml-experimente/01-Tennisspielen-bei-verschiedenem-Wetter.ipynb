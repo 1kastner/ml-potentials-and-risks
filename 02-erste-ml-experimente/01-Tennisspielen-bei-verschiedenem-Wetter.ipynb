{
 "cells": [
  {
   "cell_type": "markdown",
   "metadata": {},
   "source": [
    "# Tennisspielen bei verschiedenem Wetter\n",
    "\n",
    "Für Aufgaben, die typischerweise in Excel gelöst werden, bietet sich in Python die Bibliothek pandas an."
   ]
  },
  {
   "cell_type": "code",
   "execution_count": null,
   "metadata": {},
   "outputs": [],
   "source": [
    "import pandas as pd"
   ]
  },
  {
   "cell_type": "markdown",
   "metadata": {},
   "source": [
    "In Jupyter Notebooks ist das Fragezeichen als Operator dafür da, um Hilfe anzuzeigen.\n",
    "Dies funktioniert für Module, aber auch für Variablen etc."
   ]
  },
  {
   "cell_type": "code",
   "execution_count": null,
   "metadata": {},
   "outputs": [],
   "source": [
    "?pd"
   ]
  },
  {
   "cell_type": "markdown",
   "metadata": {},
   "source": [
    "Nun sollte unten ein Fenster aufgegangen sein.\n",
    "Lesen Sie den ersten Absatz und schließen Sie das Fenster wieder.\n",
    "\n",
    "Neben dieser Hilfe lässt sich für so ziemlich jede Fragestellung über google eine Lösung in der Dokumentation oder auf stackoverflow finden."
   ]
  },
  {
   "cell_type": "markdown",
   "metadata": {},
   "source": [
    "## Einlesen der Daten\n",
    "\n",
    "Datengetrieben Projekte benötigen Datenquellen.\n",
    "Insbesondere in kleineren Unternehmen sind dies oft klassische Datenbanken, Excel-Tabellen oder CSV-Dateien.\n",
    "Diese tabellenartig strukturierten Daten lassen sich gut mit pandas einlesen."
   ]
  },
  {
   "cell_type": "code",
   "execution_count": null,
   "metadata": {},
   "outputs": [],
   "source": [
    "df = pd.read_csv(\"tennis.tsv\", sep=\" \\t\", engine=\"python\")\n",
    "df"
   ]
  },
  {
   "cell_type": "markdown",
   "metadata": {},
   "source": [
    "Wenn wir wissen möchten, welche Spalte von welchem Datentyp ist, verwenden wir die API von pandas.\n",
    "Mit der Methode `info` bekommt man einen Überblick über die interne Datenstruktur.\n",
    "Der Dtype `int64` bedeutet, dass pandas erkannt hat, dass eine Zeile nur Integer enthält.\n",
    "Der Dtype `object` steht für einen Text, den pandas nicht interpretieren kann."
   ]
  },
  {
   "cell_type": "code",
   "execution_count": null,
   "metadata": {},
   "outputs": [],
   "source": [
    "df.info()"
   ]
  },
  {
   "cell_type": "markdown",
   "metadata": {},
   "source": [
    "Die Methode `describe` erstellt [deskriptive Statistiken](https://de.wikipedia.org/wiki/Deskriptive_Statistik) für alle Spalten, für die dies möglich ist.\n",
    "Falls eine Berechnung für eine Spalte nicht sinnvoll ist, steht dort stattdessen `NaN` - Not a Number."
   ]
  },
  {
   "cell_type": "code",
   "execution_count": null,
   "metadata": {},
   "outputs": [],
   "source": [
    "df.describe(include=\"all\")"
   ]
  },
  {
   "cell_type": "markdown",
   "metadata": {},
   "source": [
    "**Für alle Skalenniveaus**\n",
    "- `count` bezeichnet die Anzahl der vorhandenen Einträge (d. h. sie sind nicht `None`, `pd.NaN` oder äquivalent).\n",
    "\n",
    "**Für nominalskalierte Attribute**:\n",
    "- `unique` beschreibt die Anzahl der unterschiedlichen Ausprägungen.\n",
    "- `top` beschreibt die am häufigsten angetroffene Ausprägung.\n",
    "- `freq` beschreibt die Häufigkeit der Ausprägung von `top`.\n",
    "\n",
    "**Für kardinalskalierte Attribute**\n",
    "\n",
    "- `mean` beschreibt das arithmetische Mittel und `std` die Standardabweichung.\n",
    "- `min` und `max` beschreiben das Minimum und das Maximum\n",
    "- mit `25%`, `50%` und `75%` werden die jeweiligen Quartile beschreiben - das Quartil `50%` entspricht dem Median."
   ]
  },
  {
   "cell_type": "markdown",
   "metadata": {},
   "source": [
    "Nun betrachten wir die nominalskalierten Attribute genauer:"
   ]
  },
  {
   "cell_type": "code",
   "execution_count": null,
   "metadata": {},
   "outputs": [],
   "source": [
    "other_columns = set(df.columns) - {\"Day\"}\n",
    "other_columns"
   ]
  },
  {
   "cell_type": "markdown",
   "metadata": {},
   "source": [
    "Nun gehen wir über die übrigen Zeilen und schauen, welcher Text wie häufig vorkommt."
   ]
  },
  {
   "cell_type": "code",
   "execution_count": null,
   "metadata": {},
   "outputs": [],
   "source": [
    "for column in other_columns:\n",
    "    print(\"Attribut: \", column)\n",
    "    print(df[column].value_counts())\n",
    "    print()"
   ]
  },
  {
   "cell_type": "markdown",
   "metadata": {},
   "source": [
    "<span style=\"color:blue; font-weight:bold\">Aufgabe 1<span/>\n",
    "\n",
    "Welches Skalenniveau wird für das jeweilige Attribut verwernden?\n",
    "Nominalskala, Ordinalskala, Intervallskala, Verhältnisskala oder Absolutskala?"
   ]
  },
  {
   "cell_type": "markdown",
   "metadata": {},
   "source": [
    "Antwort: ..."
   ]
  },
  {
   "cell_type": "markdown",
   "metadata": {},
   "source": [
    "## Vorhersage\n",
    "\n",
    "Wie können wir nun vorhersagen, unter welchen Umständen Tennis gespielt wird und unter welchen nicht? Gibt es ein Muster?"
   ]
  },
  {
   "cell_type": "code",
   "execution_count": null,
   "metadata": {},
   "outputs": [],
   "source": [
    "df[\"Play Tennis?\"].value_counts()"
   ]
  },
  {
   "cell_type": "markdown",
   "metadata": {},
   "source": [
    "Es wird häufiger Tennis gespielt als nicht gespielt.\n",
    "Daraus können wir uns nun ein dummes Vorhersagewerkzeug basteln:\n",
    "Es wird einfach getippt, dass immer Tennis gespielt wird!\n",
    "Damit liegen wir in 9 von 9 + 5 = 14 Fällen richtig."
   ]
  },
  {
   "cell_type": "code",
   "execution_count": null,
   "metadata": {},
   "outputs": [],
   "source": [
    "# Füge Spalte mit der dummen Vorhersage hinzu:\n",
    "df = df.assign(stupid_guess=[\"Yes\" for _ in range(len(df))])\n",
    "\n",
    "df"
   ]
  },
  {
   "cell_type": "markdown",
   "metadata": {},
   "source": [
    "Noch ist die Tabelle übersichtlich, aber gerade bei großen Datenmengen können wir nicht immer den gesamten Datensatz betrachten.\n",
    "Wir müssen die Informationen in Zahlen zusammenfassen.\n",
    "Dies betrifft nun auch unsere Vorhersage.\n",
    "Wie gut ist sie?\n",
    "Welche Zahl, welche Metrik kann dies gut ausdrücken?\n",
    "\n",
    "Eine Ja/Nein-Entscheidung wird auch als [binäre Klassifikation](https://de.wikipedia.org/wiki/Beurteilung_eines_bin%C3%A4ren_Klassifikators) bezeichnet und erlaubt eine Vielzahl von Auswertungen.\n",
    "Über das Problem muss bekannt sein bzw. definiert werden, was schlimmer ist:\n",
    "Sollte man lieber einmal zu viel \"ja\" getippt haben oder muss auf jeden Fall jedes getippte \"ja\" ein Treffer sein?\n",
    "Für das Tennisspielen ist es vielleicht egal, aber wenn es um Gesundheit oder juristische Urteile geht, ist dies anders.\n",
    "\n",
    "In diesem Beispiel ist die Treffergenauigkeit (Englisch: Accuracy) geeignet.\n",
    "Diese drückt aus, in wie viel Prozent der Fälle die Klassifikation richtig lag, sowohl mit \"ja\" als auch mit \"nein\".\n",
    "Ein falsches Tippen hat keine schlimmen Konsequenzen für das Leben des\\*r Tennisspieler\\*in.\n",
    "\n",
    "Die Berechnung müssen wir nicht selbst implementieren, dafür gibt es bereits eine Bibliothek in Python."
   ]
  },
  {
   "cell_type": "code",
   "execution_count": null,
   "metadata": {},
   "outputs": [],
   "source": [
    "import sklearn.metrics"
   ]
  },
  {
   "cell_type": "code",
   "execution_count": null,
   "metadata": {},
   "outputs": [],
   "source": [
    "sklearn.metrics.accuracy_score(df[\"Play Tennis?\"], df[\"stupid_guess\"])"
   ]
  },
  {
   "cell_type": "markdown",
   "metadata": {},
   "source": [
    "In ca. 64 % der Fälle liegen wir also damit richtig.\n",
    "\n",
    "Wie würde es aussehen, wenn wir immer eine Münze werfen?\n",
    "Dafür gibt es ein weiteres Python-Modul, das uns helfen kann."
   ]
  },
  {
   "cell_type": "code",
   "execution_count": null,
   "metadata": {},
   "outputs": [],
   "source": [
    "import random\n",
    "\n",
    "\n",
    "def random_guess():\n",
    "    return [\"Yes\" if random.random() > .5 else \"No\"\n",
    "            for _ in range(len(df))]\n",
    "\n",
    "\n",
    "random_guess()"
   ]
  },
  {
   "cell_type": "code",
   "execution_count": null,
   "metadata": {},
   "outputs": [],
   "source": [
    "for i in range(1, 11):\n",
    "    this_guess = random_guess()\n",
    "    accuracy = sklearn.metrics.accuracy_score(df[\"Play Tennis?\"], this_guess)\n",
    "    print(f\"{i:02}) Zufälliges Ergebnis: {accuracy:.02}\")  # Schleifenzähler mit führenden Nullen (auf zwei Stellen),\n",
    "                                                           # Genauigkeit auf die zweite Stelle gerundet"
   ]
  },
  {
   "cell_type": "markdown",
   "metadata": {},
   "source": [
    "Wir sehen, dass bei so wenigen Münzwürfen manchmal ähnlich gute Ergebnisse wie bei der Variante \"immer ja\" herauskommen.\n",
    "Mit anderen Worten: Unser Datensatz ist noch deutlich zu klein!"
   ]
  },
  {
   "cell_type": "markdown",
   "metadata": {},
   "source": [
    "### Vorhersage mit einem Entscheidungsbaum"
   ]
  },
  {
   "cell_type": "code",
   "execution_count": null,
   "metadata": {},
   "outputs": [],
   "source": [
    "import sklearn.tree\n",
    "dt = sklearn.tree.DecisionTreeClassifier()"
   ]
  },
  {
   "cell_type": "markdown",
   "metadata": {},
   "source": [
    "Zum Trainieren teilen wir die Daten in Eingabewerte und einem Zielwert auf.\n",
    "Der Zielwert soll auf Basis der Eingabewerte vorhergesagt werden."
   ]
  },
  {
   "cell_type": "code",
   "execution_count": null,
   "metadata": {},
   "outputs": [],
   "source": [
    "eingabe = df[[\"Day\", \"Outlook\", \"Temperature\", \"Humidity\", \"Wind\"]]\n",
    "eingabe"
   ]
  },
  {
   "cell_type": "code",
   "execution_count": null,
   "metadata": {},
   "outputs": [],
   "source": [
    "ziel = df[[\"Play Tennis?\"]]\n",
    "ziel"
   ]
  },
  {
   "cell_type": "markdown",
   "metadata": {},
   "source": [
    "Nun wird der Zusammenhang zwischen Eingabe und der Beobachtung gelernt"
   ]
  },
  {
   "cell_type": "code",
   "execution_count": null,
   "metadata": {},
   "outputs": [],
   "source": [
    "dt.fit(eingabe, ziel)"
   ]
  },
  {
   "cell_type": "markdown",
   "metadata": {},
   "source": [
    "Die letzte Zelle sollte zum Fehler `ValueError: could not convert string to float: 'Sunny'` geführt haben.\n",
    "Hier müssen wir für die Methode `fit` die Daten vorverarbeiten.\n",
    "Denn leider kann der Entscheidungsbaum nur mit Fließkommazahlen (floats) arbeiten.\n",
    "\n",
    "Eine Möglichkeit ist das sogenannte One-Hot-Enkodieren.\n",
    "Dafür werden alle vorhandenen Kategorien eines Attributs als eine eigene Spalte aufgenommen.\n",
    "Indirekt modellieren wir somit jedes Attribut (außer den Tag) als nominalskalierte Variable.\n",
    "\n",
    "Die Umrechnung von Kategorien in One-Hot-enkodierte Dateien wird bereits mit pandas ausgeliefert.\n",
    "Es werden auch automatisch nur die Attribute enkodiert, die dies benötigen, siehe das Attribut `Day`!"
   ]
  },
  {
   "cell_type": "code",
   "execution_count": null,
   "metadata": {},
   "outputs": [],
   "source": [
    "one_hot_data = pd.get_dummies(df[[\"Day\", \"Outlook\", \"Temperature\", \"Humidity\", \"Wind\"]])\n",
    "\n",
    "one_hot_data"
   ]
  },
  {
   "cell_type": "markdown",
   "metadata": {},
   "source": [
    "<span style=\"color:blue; font-weight:bold\">Aufgabe 2</span>\n",
    "\n",
    "Rufen Sie nun die Methode `fit` mit den vorverarbeiteten Daten auf."
   ]
  },
  {
   "cell_type": "code",
   "execution_count": null,
   "metadata": {},
   "outputs": [],
   "source": [
    "# Schreiben Sie den Code in diese Zelle"
   ]
  },
  {
   "cell_type": "markdown",
   "metadata": {},
   "source": [
    "Nun kann der Entscheidungsbaum mit der Methode `predict` für neue Beobachtungen vorhersagen, ob es ein Tag zum Tennisspielen ist oder nicht.\n",
    "Weil wir keine weiteren Beobachtungen haben, überprüfen wird dies nun mit den bisherigen Daten.\n",
    "Dafür lassen wir uns für jede Zeile in der Tabelle die Vorhersage ausgeben."
   ]
  },
  {
   "cell_type": "code",
   "execution_count": null,
   "metadata": {},
   "outputs": [],
   "source": [
    "y_pred = dt.predict(one_hot_data)\n",
    "y_pred"
   ]
  },
  {
   "cell_type": "code",
   "execution_count": null,
   "metadata": {},
   "outputs": [],
   "source": [
    "sklearn.metrics.accuracy_score(df[\"Play Tennis?\"], y_pred)"
   ]
  },
  {
   "cell_type": "markdown",
   "metadata": {},
   "source": [
    "Uuups, das ist aber ganz schön gut, ganze 100 % der Fälle lagen wir genau richtig.\n",
    "Kann man den Nachbarn wirklich so leicht durchschauen?"
   ]
  },
  {
   "cell_type": "markdown",
   "metadata": {},
   "source": [
    "<span style=\"color:blue; font-weight:bold\">Aufgabe 3</span>\n",
    "\n",
    "Stellen Sie eine Hypothese auf, warum der Entscheidungsbaum alles korrekt vorhergesagt hat."
   ]
  },
  {
   "cell_type": "markdown",
   "metadata": {},
   "source": [
    "Hypothese: ..."
   ]
  },
  {
   "cell_type": "markdown",
   "metadata": {},
   "source": [
    "Wir können uns den Entscheidungsbaum auch visualisieren lassen."
   ]
  },
  {
   "cell_type": "code",
   "execution_count": null,
   "metadata": {},
   "outputs": [],
   "source": [
    "import matplotlib.pyplot as plt\n",
    "from sklearn import tree\n",
    "fig, ax = plt.subplots(figsize=(20, 10))\n",
    "tree.plot_tree(dt, ax=ax, feature_names=one_hot_data.columns)\n",
    "plt.show()"
   ]
  },
  {
   "cell_type": "markdown",
   "metadata": {},
   "source": [
    "Hier ein Leitfaden zur Interpretation:\n",
    "- In der obersten Zeile steht mit `<=` der Vergleich, nach dem nach links (zutreffend) und rechts (nicht zutreffend) aufgeteilt wird.\n",
    "- Der [Gini-Koeffizient](https://de.wikipedia.org/wiki/Gini-Koeffizient) beträgt 0, wenn alle Einträge am Knoten gleich sind. Je größer der Wert ist, desto mehr unterschiedliche Einträge gibt es.\n",
    "- `samples` steht für die Anzahl der Einträge\n",
    "- value ist ein Tupel nach dem Muster \\[Anzahl NO, Anzahl YES\\]."
   ]
  },
  {
   "cell_type": "markdown",
   "metadata": {},
   "source": [
    "<span style=\"color:blue; font-weight:bold\">Aufgabe 4</span>\n",
    "\n",
    "Frage:\n",
    "Glauben Sie, dass dieser Entscheidungsbaum gut auf neue Beobachtungen in dem Folgetagen übertragen werden kann? Warum (nicht)?"
   ]
  },
  {
   "cell_type": "markdown",
   "metadata": {},
   "source": [
    "Antwort: ..."
   ]
  },
  {
   "cell_type": "markdown",
   "metadata": {},
   "source": [
    "<a rel=\"license\" href=\"http://creativecommons.org/licenses/by/4.0/\"><img alt=\"Creative Commons Lizenzvertrag\" style=\"border-width:0; display:inline\" src=\"https://i.creativecommons.org/l/by/4.0/88x31.png\" /></a> &nbsp;&nbsp;&nbsp;&nbsp;Dieses Werk von Marvin Kastner ist lizenziert unter einer <a rel=\"license\" href=\"http://creativecommons.org/licenses/by/4.0/\">Creative Commons Namensnennung 4.0 International Lizenz</a>."
   ]
  }
 ],
 "metadata": {
  "kernelspec": {
   "display_name": "Python 3 (ipykernel)",
   "language": "python",
   "name": "python3"
  },
  "language_info": {
   "codemirror_mode": {
    "name": "ipython",
    "version": 3
   },
   "file_extension": ".py",
   "mimetype": "text/x-python",
   "name": "python",
   "nbconvert_exporter": "python",
   "pygments_lexer": "ipython3",
   "version": "3.8.12"
  },
  "varInspector": {
   "cols": {
    "lenName": 16,
    "lenType": 16,
    "lenVar": 40
   },
   "kernels_config": {
    "python": {
     "delete_cmd_postfix": "",
     "delete_cmd_prefix": "del ",
     "library": "var_list.py",
     "varRefreshCmd": "print(var_dic_list())"
    },
    "r": {
     "delete_cmd_postfix": ") ",
     "delete_cmd_prefix": "rm(",
     "library": "var_list.r",
     "varRefreshCmd": "cat(var_dic_list()) "
    }
   },
   "types_to_exclude": [
    "module",
    "function",
    "builtin_function_or_method",
    "instance",
    "_Feature"
   ],
   "window_display": false
  }
 },
 "nbformat": 4,
 "nbformat_minor": 4
}
