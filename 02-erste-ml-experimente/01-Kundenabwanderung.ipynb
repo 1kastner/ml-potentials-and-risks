{
 "cells": [
  {
   "cell_type": "markdown",
   "metadata": {},
   "source": [
    "# Kundenabwanderung\n",
    "\n",
    "Kundenabwanderung ist ein branchenübergreifendes Problem.\n",
    "Häufig wird sehr viel Energie in die Gewinnung von Kunden gesteckt, aber das Halten der Kunden wird vernachlässigt.\n",
    "Mit einer Prognose zur Kundenabwanderung können diejenigen Kunden identifiziert werden, welche gegebenenfalls abwandern würden.\n",
    "Diese kann das Unternehmen dann mit besonderen Angeboten oder anderweitigen Aufmerksamkeiten vielleicht zurückgewinnen."
   ]
  },
  {
   "cell_type": "code",
   "execution_count": null,
   "metadata": {},
   "outputs": [],
   "source": [
    "import pandas as pd\n",
    "import matplotlib.pyplot as plt"
   ]
  },
  {
   "cell_type": "markdown",
   "metadata": {},
   "source": [
    "Nun laden wir die Datei `CustomerChurn.xlsx` herunter.\n",
    "Der Code dafür ist bereits vorgegeben.\n",
    "IBM stellt den Datensatz\n",
    "[in einem Blogbeitrag](https://community.ibm.com/community/user/businessanalytics/blogs/steven-macko/2019/07/11/telco-customer-churn-1113)\n",
    "vor."
   ]
  },
  {
   "cell_type": "code",
   "execution_count": null,
   "metadata": {},
   "outputs": [],
   "source": [
    "import os\n",
    "import requests\n",
    "import shutil\n",
    "\n",
    "file_name = \"CustomerChurn.xlsx\"\n",
    "if file_name not in os.listdir(\".\"):\n",
    "    print(f\"Lade Datei '{file_name}' herunter\")\n",
    "    r = requests.get(\n",
    "        \"https://public.dhe.ibm.com/software/data/sw-library/cognos/mobile/C11/data/CustomerChurn.xlsx\",\n",
    "        stream=True\n",
    "    )\n",
    "    if r.status_code == 200:\n",
    "        with open(file_name, 'wb') as f:\n",
    "            r.raw.decode_content = True\n",
    "            shutil.copyfileobj(r.raw, f)\n",
    "else:\n",
    "    print(f\"Datei '{file_name}' ist bereits heruntergeladen\")"
   ]
  },
  {
   "cell_type": "markdown",
   "metadata": {},
   "source": [
    "## Einlesen der Daten"
   ]
  },
  {
   "cell_type": "markdown",
   "metadata": {
    "tags": []
   },
   "source": [
    "Das Modul `pandas` liefert die Möglichkeit, Excel-Dateien mit der Funktion `read_excel()` einzulesen."
   ]
  },
  {
   "cell_type": "code",
   "execution_count": null,
   "metadata": {},
   "outputs": [],
   "source": [
    "df = pd.read_excel(\"CustomerChurn.xlsx\")\n",
    "df"
   ]
  },
  {
   "cell_type": "markdown",
   "metadata": {},
   "source": [
    "Es wurden verschiedene Skalen für Attribute vorgestellt.\n",
    "Die Methode `df.info()` zeigt an, welcher Typ innerhalb von pandas ermittelt worden ist.\n",
    "Eine kurze technische Erklärung der Typen gibt es\n",
    "[in der Dokumentation von pandas](https://pandas.pydata.org/docs/user_guide/basics.html#dtypes).\n",
    "\n",
    "<span style=\"color:blue\">(a) \n",
    "    Führen Sie die nachfolgende Anweisung aus und interpretieren Sie das Ergebnis.\n",
    "    Welche Spalten werden als nominalskaliert erkannt (`object`), sollten aber eine andere Skala haben?\n",
    "</span>"
   ]
  },
  {
   "cell_type": "code",
   "execution_count": null,
   "metadata": {},
   "outputs": [],
   "source": [
    "df.info()"
   ]
  },
  {
   "cell_type": "markdown",
   "metadata": {},
   "source": [
    "## Umwandlung in korrekte Typen\n",
    "\n",
    "Nun möchten wir aus dem Text in der Spalte `Total Charges` Zahlenwerte gewinnen, die wir weiter verwenden können."
   ]
  },
  {
   "cell_type": "code",
   "execution_count": null,
   "metadata": {},
   "outputs": [],
   "source": [
    "df[\"Total Charges\"] = pd.to_numeric(df['Total Charges'], errors='coerce')\n",
    "df"
   ]
  },
  {
   "cell_type": "markdown",
   "metadata": {},
   "source": [
    "<span style=\"color:blue\">(b)\n",
    "    Führen Sie die nachfolgende Anweisung aus und interpretieren Sie das Ergebnis.\n",
    "    Was hat sich verändert?\n",
    "</span>"
   ]
  },
  {
   "cell_type": "code",
   "execution_count": null,
   "metadata": {},
   "outputs": [],
   "source": [
    "df.info()"
   ]
  },
  {
   "cell_type": "markdown",
   "metadata": {},
   "source": [
    "Spoiler Alert: Später im Jupyter Notebook möchten wir noch Maschinelles Lernen verwenden.\n",
    "Deswegen wollen wir schon mal alle \"Yes\"-Einträge in Einsen und alle \"No\"-Einträge in Nullen umwandeln."
   ]
  },
  {
   "cell_type": "code",
   "execution_count": null,
   "metadata": {},
   "outputs": [],
   "source": [
    "for attr in [\"Phone Service\", \"Online Security\", \"Senior Citizen\", \"Partner\", \"Dependents\",\n",
    "             \"Device Protection\", \"Paperless Billing\", \"Streaming Movies\", \"Streaming TV\",\n",
    "             \"Tech Support\", \"Churn\", \"Multiple Lines\", \"Online Backup\"]:\n",
    "    df[attr] = df[attr].map({'Yes': 1, 'No': 0, 1: 1, 0: 0})\n",
    "\n",
    "df"
   ]
  },
  {
   "cell_type": "markdown",
   "metadata": {},
   "source": [
    "Das Umwandeln der Vertragsarten und der Bezahlmethode sind komplexer.\n",
    "Deswegen überspringen wir das für diese Übung und löschen die Werte einfach."
   ]
  },
  {
   "cell_type": "code",
   "execution_count": null,
   "metadata": {},
   "outputs": [],
   "source": [
    "df.drop(columns=[\"Payment Method\", \"Contract\", \"Internet Service\"], inplace=True)\n",
    "df"
   ]
  },
  {
   "cell_type": "markdown",
   "metadata": {},
   "source": [
    "## Wahrscheinlichkeit, dass ein Kunde abspringt\n",
    "\n",
    "Das Modul `pandas` stellt eine Reihe von deskriptiven Analysewerkzeugen zur Verfügung, bspw. die Berechnung von Mittelwerten, Varianzen und Standardabweichungen einzelner Spalten.\n",
    "Weiterführende Informationen dazu sind in der\n",
    "[Dokumentation von pandas zu deskriptiven Statistiken](https://pandas.pydata.org/pandas-docs/stable/reference/frame.html#computations-descriptive-stats)\n",
    "zu finden.\n",
    "\n",
    "<span style=\"color:blue\">(c)\n",
    "    Führen Sie die nachfolgende Anweisung aus und interpretieren Sie das Ergebnis.\n",
    "    Was hat es mit der empirischen Wahrscheinlichkeit zu tun, dass ein Kunde abspringt?\n",
    "</span>"
   ]
  },
  {
   "cell_type": "code",
   "execution_count": null,
   "metadata": {},
   "outputs": [],
   "source": [
    "df['Churn'].mean()"
   ]
  },
  {
   "cell_type": "markdown",
   "metadata": {},
   "source": [
    "## Eine ML-basierte Prognose\n",
    "\n",
    "Nun soll ein Algorithmus entwickelt werden, der vorhersagt, ob ein bestimmter Kunde abwandern wird.\n",
    "Im nächsten Schritt teilen wir die Daten auf:\n",
    "`X` enthält die Eingabewerte, die uns etwas über das Ergebnis verraten sollen,\n",
    "und `y` enthält das Ziel, was wir erlernen wollen.\n",
    "Die Spalte `y` wollen wir in Zukunft mit ML prognostizieren können."
   ]
  },
  {
   "cell_type": "code",
   "execution_count": null,
   "metadata": {},
   "outputs": [],
   "source": [
    "X = df.drop(\n",
    "    ['Customer ID', 'LoyaltyID', 'Churn'],  # Nenne alle Spalten, die nicht zum Lernen verwendet werden dürfen/sollen\n",
    "    axis=1\n",
    ").values\n",
    "y = df['Churn'].values  # Das zu erlernene Ziel"
   ]
  },
  {
   "cell_type": "markdown",
   "metadata": {},
   "source": [
    "Nun erstellen wir einen Entscheidungsbaum.\n",
    "Weitere Infos hier finden Sie\n",
    "[in der Dokumentation von scikit-learn](http://scikit-learn.org/stable/modules/generated/sklearn.tree.DecisionTreeClassifier.html)."
   ]
  },
  {
   "cell_type": "code",
   "execution_count": null,
   "metadata": {},
   "outputs": [],
   "source": [
    "from sklearn import tree\n",
    "clf_dt = tree.DecisionTreeClassifier(max_depth=3)"
   ]
  },
  {
   "cell_type": "markdown",
   "metadata": {},
   "source": [
    "In einem nächsten Schritt wird der Entscheidungsbaum anhand der Trainingsdaten trainiert.\n",
    "Dabei erlernt er den (bzw. einen) Zusammenhang zwischen `X` und `y`."
   ]
  },
  {
   "cell_type": "code",
   "execution_count": null,
   "metadata": {},
   "outputs": [],
   "source": [
    "clf_dt.fit(X, y)"
   ]
  },
  {
   "cell_type": "markdown",
   "metadata": {},
   "source": [
    "Gerade eben kam es vermutlich zu einer Fehlermeldung (genauer gesagt, einem `ValueError`).\n",
    "Der Entscheidungsbaum von scikit-learn braucht nicht nur überall Zahlenwerte, sondern es dürfen auch keine Daten fehlen.\n",
    "Deswegen verwerfen wir kurzerhand alle Zeilen, in denen wir fehlende Werte haben."
   ]
  },
  {
   "cell_type": "code",
   "execution_count": null,
   "metadata": {},
   "outputs": [],
   "source": [
    "df.dropna(axis=1, how='any', inplace=True)\n",
    "df"
   ]
  },
  {
   "cell_type": "markdown",
   "metadata": {},
   "source": [
    "Nun rufen wir das Lernverfahren erneut auf:"
   ]
  },
  {
   "cell_type": "code",
   "execution_count": null,
   "metadata": {},
   "outputs": [],
   "source": [
    "X = df.drop(['Customer ID', 'LoyaltyID', 'Churn'], axis=1).values\n",
    "y = df['Churn'].values\n",
    "\n",
    "clf_dt.fit(X, y)"
   ]
  },
  {
   "cell_type": "markdown",
   "metadata": {},
   "source": [
    "Diesmal sollte es geklappt haben.\n",
    "Falls nicht, haben Sie vermutlich bei Aufgabe (d) etwas übersehen."
   ]
  },
  {
   "cell_type": "markdown",
   "metadata": {},
   "source": [
    "Jetzt, da der Entscheidungsbaum fertig ist, sollten wir überprüfen, in wie viel Prozet der Fälle der Entscheidungsbaum richtig liegt."
   ]
  },
  {
   "cell_type": "code",
   "execution_count": null,
   "metadata": {},
   "outputs": [],
   "source": [
    "clf_dt.score(X, y)"
   ]
  },
  {
   "cell_type": "code",
   "execution_count": null,
   "metadata": {},
   "outputs": [],
   "source": [
    "print(\"Wahrscheinlichkeit, dass der Kunde abwandert\", df['Churn'].mean() * 100, \"%\")\n",
    "print(\"Wahrscheinlichkeit, dass der Kunde nicht abwandert\", (1 - df['Churn'].mean()) * 100, \"%\")"
   ]
  },
  {
   "cell_type": "markdown",
   "metadata": {},
   "source": [
    "<span style=\"color:blue\">(d)\n",
    "    Setzen Sie das Ergebnis in den Kontext, was wir bereits allein aufgrund des arithmetischen Mittels wissen.\n",
    "    Würden Sie dieses Modell in der Praxis einsetzen?\n",
    "</span>"
   ]
  },
  {
   "cell_type": "markdown",
   "metadata": {},
   "source": [
    "Der folgende Code visualisierung den Entscheidungsbaum:"
   ]
  },
  {
   "cell_type": "code",
   "execution_count": null,
   "metadata": {},
   "outputs": [],
   "source": [
    "fig, ax = plt.subplots(figsize=(20, 10))\n",
    "tree.plot_tree(\n",
    "    clf_dt,\n",
    "    ax=ax,\n",
    "    feature_names=df.drop(['Customer ID', 'LoyaltyID', 'Churn'], axis=1).columns\n",
    ")\n",
    "plt.show()"
   ]
  },
  {
   "cell_type": "markdown",
   "metadata": {},
   "source": [
    "Die Boxen in der untersten Zeile stellen die Blätter da, die anderen Boxen sind die Knoten des Baumes.\n",
    "In diesen Boxen ist die jeweils oberste Zeile die Bedingung, die überprüft wird.\n",
    "Ist die Bedingung wahr, so wird der linke Pfad gewählt und ist die Bedigung falsch, so wird der rechte Pfad gewählt.\n",
    "\n",
    "- Die Zeile mit dem `gini`-Wert gibt die Verteilung von abgewanderten zu beim Kunden verbliebenen Kunden beim jeweiligen Knoten bzw. Blatt an.\n",
    "- Die Zeile mit dem `sample`-Wert gibt an, wie viele Zeilen der Daten (ohne Testdaten) den jeweiligen Knoten bzw. das jeweilige Blatt erreicht haben.\n",
    "- Die Zeile mit dem `value`-Wert gibt an, wie viele Passagiere (ohne Testdaten) des jeweiligen Knotens bzw. Blattes als Kunden geblieben sind (1. Wert) bzw. abgewandert sind (2. Wert).\n",
    "- Bei den Blättern gibt der größere `value`-Wert an, welche Prognose der Algorithmus für neue Daten trifft.\n",
    "\n",
    "<span style=\"color:blue\">(e)\n",
    "    Ist diese Art von Entscheidungsbaum zu erwarten gewesen?\n",
    "    Gibt es Unterscheidungen und Prognosen, die überraschend sind? Woran liegt dies?\n",
    "</span>"
   ]
  }
 ],
 "metadata": {
  "kernelspec": {
   "display_name": "Python 3 (ipykernel)",
   "language": "python",
   "name": "python3"
  },
  "language_info": {
   "codemirror_mode": {
    "name": "ipython",
    "version": 3
   },
   "file_extension": ".py",
   "mimetype": "text/x-python",
   "name": "python",
   "nbconvert_exporter": "python",
   "pygments_lexer": "ipython3",
   "version": "3.9.10"
  },
  "nbsphinx": {
   "allow_errors": true,
   "execute": "always"
  },
  "varInspector": {
   "cols": {
    "lenName": 16,
    "lenType": 16,
    "lenVar": 40
   },
   "kernels_config": {
    "python": {
     "delete_cmd_postfix": "",
     "delete_cmd_prefix": "del ",
     "library": "var_list.py",
     "varRefreshCmd": "print(var_dic_list())"
    },
    "r": {
     "delete_cmd_postfix": ") ",
     "delete_cmd_prefix": "rm(",
     "library": "var_list.r",
     "varRefreshCmd": "cat(var_dic_list()) "
    }
   },
   "types_to_exclude": [
    "module",
    "function",
    "builtin_function_or_method",
    "instance",
    "_Feature"
   ],
   "window_display": false
  }
 },
 "nbformat": 4,
 "nbformat_minor": 4
}
