{
 "cells": [
  {
   "cell_type": "markdown",
   "metadata": {},
   "source": [
    "# Kundenabwanderung\n",
    "\n",
    "Kundenabwanderung ist ein branchenübergreifendes Problem.\n",
    "Häufig wird sehr viel Energie in die Gewinnung von Kunden gesteckt, aber das Halten der Kunden wird vernachlässigt.\n",
    "Mit einer Prognose zur Kundenabwanderung können diejenigen Kunden identifiziert werden, welche gegebenenfalls abwandern würden.\n",
    "Diese kann das Unternehmen dann mit besonderen Angeboten oder anderweitigen Aufmerksamkeiten vielleicht zurückgewinnen."
   ]
  },
  {
   "cell_type": "code",
   "execution_count": null,
   "metadata": {},
   "outputs": [],
   "source": [
    "import pandas as pd\n",
    "import matplotlib.pyplot as plt"
   ]
  },
  {
   "cell_type": "markdown",
   "metadata": {},
   "source": [
    "Nun laden wir die Datei `CustomerChurn.xlsx` herunter.\n",
    "Der Code dafür ist bereits vorgegeben.\n",
    "IBM stellt den Datensatz\n",
    "[in einem Blogbeitrag](https://community.ibm.com/community/user/businessanalytics/blogs/steven-macko/2019/07/11/telco-customer-churn-1113)\n",
    "vor."
   ]
  },
  {
   "cell_type": "code",
   "execution_count": null,
   "metadata": {},
   "outputs": [],
   "source": [
    "import os\n",
    "import requests\n",
    "import shutil\n",
    "\n",
    "file_name = \"CustomerChurn.xlsx\"\n",
    "if file_name not in os.listdir(\".\"):\n",
    "    print(f\"Lade Datei '{file_name}' herunter\")\n",
    "    r = requests.get(\"https://public.dhe.ibm.com/software/data/sw-library/cognos/mobile/C11/data/CustomerChurn.xlsx\", stream=True)\n",
    "    if r.status_code == 200:\n",
    "        with open(file_name, 'wb') as f:\n",
    "            r.raw.decode_content = True\n",
    "            shutil.copyfileobj(r.raw, f)\n",
    "else:\n",
    "    print(f\"Datei '{file_name}' ist bereits heruntergeladen\")"
   ]
  },
  {
   "cell_type": "markdown",
   "metadata": {},
   "source": [
    "## Einlesen der Daten"
   ]
  },
  {
   "cell_type": "markdown",
   "metadata": {
    "tags": []
   },
   "source": [
    "Das Modul `pandas` liefert die Möglichkeit, Excel-Dateien mit der Funktion `read_excel()` einzulesen. \n",
    "Weitere Informationen dazu finden Sie unter dem folgenden Link:\n",
    "https://pandas.pydata.org/pandas-docs/stable/reference/api/pandas.read_excel.html\n",
    "\n",
    "<span style=\"color:blue\">(a) Laden Sie Datei `CustomerChurn.xlsx` als ein DataFrame.\n",
    "    Nennen Sie die Variable für das DataFrame `df`.\n",
    "    Lassen Sie sich den DataFrame ausgeben.\n",
    "</span> "
   ]
  },
  {
   "cell_type": "code",
   "execution_count": null,
   "metadata": {},
   "outputs": [],
   "source": [
    "# Ihr Code...\n",
    "df = ..."
   ]
  },
  {
   "cell_type": "markdown",
   "metadata": {},
   "source": [
    "Es wurden verschiedene Skalen für Attribute vorgestellt.\n",
    "Die Methode `df.info()` zeigt an, welcher Typ innerhalb von pandas ermittelt worden ist.\n",
    "Eine kurze technische Erklärung der Typen gibt es\n",
    "[im Handbuch](https://pandas.pydata.org/docs/user_guide/basics.html#dtypes).\n",
    "\n",
    "<span style=\"color:blue\">(b) Führen Sie die nachfolgende Anweisung aus und interpretieren Sie das Ergebnis.\n",
    "    Welches Attribut wird gerade auf welcher Skala abgetragen?\n",
    "    Welche Skala sollte das jeweilige Attribut eigentlich haben?\n",
    "</span>"
   ]
  },
  {
   "cell_type": "code",
   "execution_count": null,
   "metadata": {},
   "outputs": [],
   "source": [
    "df.info()"
   ]
  },
  {
   "cell_type": "markdown",
   "metadata": {},
   "source": [
    "## Umwandlung in korrekte Typen\n",
    "\n",
    "Nun möchten wir aus dem Text in der Spalte `Total Charges` Zahlenwerte gewinnen, die wir weiter verwenden können."
   ]
  },
  {
   "cell_type": "code",
   "execution_count": null,
   "metadata": {},
   "outputs": [],
   "source": [
    "df[\"Total Charges\"] = pd.to_numeric(df['Total Charges'], errors='coerce')\n",
    "df"
   ]
  },
  {
   "cell_type": "markdown",
   "metadata": {},
   "source": [
    "<span style=\"color:blue\">(c) Führen Sie die nachfolgende Anweisung aus und interpretieren Sie das Ergebnis.\n",
    "    Was hat sich verändert?\n",
    "</span>"
   ]
  },
  {
   "cell_type": "code",
   "execution_count": null,
   "metadata": {},
   "outputs": [],
   "source": [
    "df.info()"
   ]
  },
  {
   "cell_type": "markdown",
   "metadata": {},
   "source": [
    "Spoiler Alert: Später im Jupyter Notebook möchten wir noch Maschinelles Lernen verwenden.\n",
    "Deswegen wollen wir schon mal alle \"Yes\"-Einträge in Einsen und alle \"No\"-Einträge in Nullen umwandeln.\n",
    "Damit Sie beruhigt den Code auch mehrfach aufrufen können, werden bereits erfolgte Konversionen beibehalten (1 bleibt 1 und 0 bleibt 0).\n",
    "Hier ist das Beispiel-Codeschnippsel:\n",
    "\n",
    "```python\n",
    "df['MY_ATTRIBUTE'] = df['MY_ATTRIBUTE'].map({'Yes': 1, 'No': 0, 1: 1, 0: 0})\n",
    "```\n",
    "\n",
    "<span style=\"color:blue\">(d) Wandeln sie für alle Spalte alle \"Yes\"- und \"No\"-Einträge um.\n",
    "    Speichern Sie die neue Version wieder im DataFrame `df`.\n",
    "</span>"
   ]
  },
  {
   "cell_type": "code",
   "execution_count": null,
   "metadata": {},
   "outputs": [],
   "source": [
    "# Ihr Code..."
   ]
  },
  {
   "cell_type": "markdown",
   "metadata": {},
   "source": [
    "Das Umwandeln der Vertragsarten und der Bezahlmethode sind komplexer.\n",
    "Deswegen überspringen wir das für diese Übung und löschen die Werte einfach."
   ]
  },
  {
   "cell_type": "code",
   "execution_count": null,
   "metadata": {},
   "outputs": [],
   "source": [
    "df.drop(columns=[\"Payment Method\", \"Contract\", \"Internet Service\"], inplace=True)\n",
    "df"
   ]
  },
  {
   "cell_type": "markdown",
   "metadata": {
    "tags": []
   },
   "source": [
    "## Analyse des Datensatzes\n",
    "\n",
    "Nach dem Speichern der Daten in einem `DataFrame` sowie der Vorverarbeitung dieser, können diese analysiert werden. "
   ]
  },
  {
   "cell_type": "markdown",
   "metadata": {},
   "source": [
    "## Grundlegende Wahrscheinlichkeit, dass ein Kunde abspringt\n",
    "\n",
    "Das Modul `pandas` stellt eine Reihe von deskriptiven Analysewerkzeugen zur Verfügung, bspw. die Berechnung von Mittelwerten, Varianzen und Standardabweichungen einzelner Spalten.\n",
    "Weiterführende Informationen dazu sind in der folgenden Dokumentation zu finden:\n",
    "https://pandas.pydata.org/pandas-docs/stable/reference/frame.html#computations-descriptive-stats.\n",
    "\n",
    "Zum Beispiel gibt die nachfolgende Anweisung die Wahrscheinlichkeit, dass ein Kunde abspringt, aus.\n",
    "\n",
    "<span style=\"color:blue\">(e) Führen Sie die nachfolgende Anweisung aus und interpretieren Sie das Ergebnis.\n",
    "</span>"
   ]
  },
  {
   "cell_type": "code",
   "execution_count": null,
   "metadata": {},
   "outputs": [],
   "source": [
    "df['Churn'].describe()"
   ]
  },
  {
   "cell_type": "markdown",
   "metadata": {},
   "source": [
    "<span style=\"color:blue\"> (f) Rufen Sie die Methode `.describe()` des DataFrames auf und interpretieren Sie die Ergebnisse.\n",
    "</span>"
   ]
  },
  {
   "cell_type": "code",
   "execution_count": null,
   "metadata": {},
   "outputs": [],
   "source": [
    "# Ihr Code..."
   ]
  },
  {
   "cell_type": "markdown",
   "metadata": {},
   "source": [
    "## Eine ML-basierte Prognose\n",
    "\n",
    "Mit der ersten Analyse konnten aus den Daten einige ziemlich einfache Schlüsse gezogen werden. \n",
    "In der Aufgabe 4 soll ein Algorithmus entwickelt werden, der vorhersagt, ob ein bestimmter Kunde abwandern würde.\n",
    "Hier kommt das maschinelle Lernen ins Spiel:\n",
    "Es wird ein Programm entwickelt, das aus den Beispieldaten lernt, ob ein bestimmter Kunde abwandern würde.\n",
    "\n",
    "Für das maschinelle Lernen werden die Daten in einem ersten Schritt in zwei Arrays geteilt:\n",
    "`X` enthält alle Werte, aus denen der Zusammenhang gelernt werden soll,\n",
    "und `y` enthält nur den Wert der Spalte `Churn` für diese Zeile.\n",
    "Die Klassifikationsalgorithmen vergleichen die Attributwerte von `X` mit den entsprechenden Werten von `y`,\n",
    "um Muster zu erkennen, wie unterschiedliche Attributwerte das Abwandern eines Kunden vorhersagen"
   ]
  },
  {
   "cell_type": "code",
   "execution_count": null,
   "metadata": {},
   "outputs": [],
   "source": [
    "X = df.drop(\n",
    "    ['Customer ID', 'LoyaltyID', 'Churn'],  # Nenne alle Spalten, die nicht zum Lernen verwendet werden dürfen/sollen\n",
    "    axis=1\n",
    ").values\n",
    "y = df['Churn'].values  # Das zu erlernene Ziel"
   ]
  },
  {
   "cell_type": "code",
   "execution_count": null,
   "metadata": {},
   "outputs": [],
   "source": [
    "from sklearn import tree\n",
    "clf_dt = tree.DecisionTreeClassifier(max_depth=3)"
   ]
  },
  {
   "cell_type": "markdown",
   "metadata": {},
   "source": [
    "In einem nächsten Schritt wird der Entscheidungsbaum anhand der Trainingsdaten mit Hilfe der ```fit()```-Methode trainiert (http://scikit-learn.org/stable/modules/generated/sklearn.tree.DecisionTreeClassifier.html#sklearn.tree.DecisionTreeClassifier.fit). "
   ]
  },
  {
   "cell_type": "code",
   "execution_count": null,
   "metadata": {},
   "outputs": [],
   "source": [
    "clf_dt.fit(X, y)"
   ]
  },
  {
   "cell_type": "markdown",
   "metadata": {},
   "source": [
    "Gerade eben kam es vermutlich zu einer Fehlermeldung (genauer gesagt, einem `ValueError`).\n",
    "Der Entscheidungsbaum von scikit-learn braucht nicht nur überall Zahlenwerte, sondern es dürfen auch keine Daten fehlen.\n",
    "Deswegen verwerfen wir kurzerhand alle Zeilen, in denen wir fehlende Werte haben."
   ]
  },
  {
   "cell_type": "code",
   "execution_count": null,
   "metadata": {},
   "outputs": [],
   "source": [
    "df.dropna(axis=1, how='any', inplace=True)\n",
    "df"
   ]
  },
  {
   "cell_type": "markdown",
   "metadata": {},
   "source": [
    "Nun rufen wir das Lernverfahren erneut auf:"
   ]
  },
  {
   "cell_type": "code",
   "execution_count": null,
   "metadata": {},
   "outputs": [],
   "source": [
    "X = df.drop(['Customer ID', 'LoyaltyID', 'Churn'], axis=1).values\n",
    "y = df['Churn'].values\n",
    "\n",
    "clf_dt.fit(X, y)"
   ]
  },
  {
   "cell_type": "markdown",
   "metadata": {},
   "source": [
    "Diesmal sollte es geklappt haben.\n",
    "Falls nicht, haben Sie vermutlich bei (d) etwas übersehen."
   ]
  },
  {
   "cell_type": "markdown",
   "metadata": {},
   "source": [
    "Jetzt, da der Entscheidungsbaum fertig ist, kann er mit Hilfe der Testdaten auf seine Güte hin bewertet werden.\n",
    "Eine Möglichkeit zur Überprüfung des Modells stellt die `.score()`-Methode dar,\n",
    "welche bei Klassifikationsproblemen die mittlere Genauigkeit (_Accuracy_) der angegebenen Testdaten ermittelt.\n",
    "\n",
    "Weitere Informationen zu der `score()`-Methode sind unter folgendem Link zu finden:\n",
    "http://scikit-learn.org/stable/modules/generated/sklearn.tree.DecisionTreeClassifier.html#sklearn.tree.DecisionTreeClassifier.score"
   ]
  },
  {
   "cell_type": "code",
   "execution_count": null,
   "metadata": {},
   "outputs": [],
   "source": [
    "clf_dt.score(X, y)"
   ]
  },
  {
   "cell_type": "markdown",
   "metadata": {},
   "source": [
    "<span style=\"color:blue\">(g) Setzen Sie das Ergebnis in den Kontext, was wir bereits allein aufgrund des arithmetischen Mittels wissen.\n",
    "    Würden Sie dieses Modell in der Praxis einsetzen?\n",
    "</span>"
   ]
  },
  {
   "cell_type": "code",
   "execution_count": null,
   "metadata": {},
   "outputs": [],
   "source": [
    "print(\"Wahrscheinlichkeit, dass der Kunde abwandert\", df['Churn'].mean() * 100, \"%\")\n",
    "print(\"Wahrscheinlichkeit, dass der Kunde nicht abwandert\", (1 - df['Churn'].mean()) * 100, \"%\")"
   ]
  },
  {
   "cell_type": "markdown",
   "metadata": {},
   "source": [
    "Der folgende Code visualisierung den Baum"
   ]
  },
  {
   "cell_type": "code",
   "execution_count": null,
   "metadata": {},
   "outputs": [],
   "source": [
    "fig, ax = plt.subplots(figsize=(20, 10))\n",
    "tree.plot_tree(\n",
    "    clf_dt,\n",
    "    ax=ax,\n",
    "    feature_names=df.drop(['Customer ID', 'LoyaltyID', 'Churn'], axis=1).columns\n",
    ")\n",
    "plt.show()"
   ]
  },
  {
   "cell_type": "markdown",
   "metadata": {},
   "source": [
    "Die Boxen in der untersten Zeile stellen die Blätter da, die anderen Boxen sind die Knoten des Baumes.\n",
    "In diesen Boxen ist die jeweils oberste Zeile die Bedingung, die überprüft wird.\n",
    "Ist die Bedingung wahr, so wird der linke Pfad gewählt und ist die Bedigung falsch, so wird der rechte Pfad gewählt.\n",
    "\n",
    "- Die Zeile mit dem `gini`-Wert gibt die Verteilung von abgewanderten zu beim Kunden verbliebenen Kunden beim jeweiligen Knoten bzw. Blatt an.\n",
    "- Die Zeile mit dem `sample`-Wert gibt an, wie viele Zeilen der Daten (ohne Testdaten) den jeweiligen Knoten bzw. das jeweilige Blatt erreicht haben.\n",
    "- Die Zeile mit dem `value`-Wert gibt an, wie viele Passagiere (ohne Testdaten) des jeweiligen Knotens bzw. Blattes als Kunden geblieben sind (1. Wert) bzw. abgewandert sind (2. Wert).\n",
    "- Bei den Blättern gibt der größere `value`-Wert an, welche Prognose der Algorithmus für neue Daten trifft.\n",
    "\n",
    "<span style=\"color:blue\">(h) Ist diese Art von Entscheidungsbaum zu erwarten gewesen?\n",
    "    Gibt es Unterscheidungen und Prognosen, die überraschend sind? Woran liegt dies?\n",
    "</span>"
   ]
  }
 ],
 "metadata": {
  "kernelspec": {
   "display_name": "Python 3 (ipykernel)",
   "language": "python",
   "name": "python3"
  },
  "language_info": {
   "codemirror_mode": {
    "name": "ipython",
    "version": 3
   },
   "file_extension": ".py",
   "mimetype": "text/x-python",
   "name": "python",
   "nbconvert_exporter": "python",
   "pygments_lexer": "ipython3",
   "version": "3.8.12"
  },
  "varInspector": {
   "cols": {
    "lenName": 16,
    "lenType": 16,
    "lenVar": 40
   },
   "kernels_config": {
    "python": {
     "delete_cmd_postfix": "",
     "delete_cmd_prefix": "del ",
     "library": "var_list.py",
     "varRefreshCmd": "print(var_dic_list())"
    },
    "r": {
     "delete_cmd_postfix": ") ",
     "delete_cmd_prefix": "rm(",
     "library": "var_list.r",
     "varRefreshCmd": "cat(var_dic_list()) "
    }
   },
   "types_to_exclude": [
    "module",
    "function",
    "builtin_function_or_method",
    "instance",
    "_Feature"
   ],
   "window_display": false
  }
 },
 "nbformat": 4,
 "nbformat_minor": 4
}
