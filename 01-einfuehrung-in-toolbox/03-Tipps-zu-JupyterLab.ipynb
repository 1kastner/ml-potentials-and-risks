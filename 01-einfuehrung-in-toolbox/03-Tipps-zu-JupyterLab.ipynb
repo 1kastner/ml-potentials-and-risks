{
 "cells": [
  {
   "cell_type": "markdown",
   "id": "9ac90b1b-bb79-4c3e-8e31-73c63999b841",
   "metadata": {},
   "source": [
    "# Tipps zu JupyterLab\n",
    "\n",
    "Sie bewegen sich bereits in der Entwicklungsumgebung JupyterLab.\n",
    "Hier ein paar Tipps:"
   ]
  },
  {
   "cell_type": "markdown",
   "id": "59abccb2-47eb-4a0f-94e0-0fd02ea4f902",
   "metadata": {},
   "source": [
    "## Nutzen Sie \"Table of Contents\"\n",
    "\n",
    "Die Zwischenüberschriften werden automatisch in eine Inhaltsübersicht umgewandelt.\n",
    "Diese sind unter den drei Punkten und den drei Strichen im Menü links sichtbar.\n",
    "Zusätzlich können Sie sich die Zwischenüberschriften auch automatisiert nummerieren lassen.\n",
    "\n",
    "<img\n",
    "     src=\"Grafiken/navigieren_durchs_notebook.png\" \n",
    "     style=\"width: 400px;\"\n",
    "     />"
   ]
  },
  {
   "cell_type": "markdown",
   "id": "530adc0d-b274-4682-a30f-a3e57adc918b",
   "metadata": {},
   "source": [
    "## Setzen Sie die Ausgabe des Jupyter Notebooks beim Öffnen zurück\n",
    "\n",
    "Wenn wir ein Jupyter Notebook nach einem Computer-Neustart erneut öffnen, sehen wir noch den alten Output.\n",
    "Das lässt manche denken, die Variablen wären auch noch irgendwo im Speicher.\n",
    "Das stimmt so aber nicht, es ist nur noch die visuelle Repräsentation im Jupyter Notebook, die zwischengespeichert ist.\n",
    "Wir sehen also noch z. B. die alten erzeugten Visualisierungen und Textausgaben.\n",
    "Wenn wir dann aber versuchen, dort weiterzuarbeiten, wo wir aufgehört haben, fehlen dem Jupyter Kernel sämtliche Variablen.\n",
    "Nach einem Neustart von JupyterLab muss also stets das Jupyter Notebook von vorne ausgeführt werden.\n",
    "Um sich darüber klar zu sein, welche Variablen gerade wirklich im Speicher sind, ist es hier einfacher, vor dem erneuten Ausführen der Zellen alle alten Ausgaben aus der vorherigen Sitzung zu löschen.\n",
    "Alternativ ist es eine gute Gewohnheit, vor dem Schließen eines Jupyter Notebooks alle Ausgaben zu löschen.\n",
    "Dies macht man über `Edit > Clear All Outputs`.\n",
    "Ebenfalls ist diese Option über das Kontextmenü verfügbar, welches sich bei einem Linksklick im Jupyter Notebook öffnet.\n",
    "\n",
    "<img\n",
    "     src=\"Grafiken/clear_all_output.png\"\n",
    "     style=\"width: 400px;\"\n",
    "     />"
   ]
  },
  {
   "cell_type": "markdown",
   "id": "7b415138-7fd0-4dc5-87a6-2ecb599f39d4",
   "metadata": {},
   "source": [
    "## Setzen Sie den Python-Kernel nach größeren Änderungen zurück\n",
    "\n",
    "Wenn Sie größere Änderungen am Code vorgenommen haben, kann es manchmal verwirrend sein, welche Variablen gerade welchen Wert haben.\n",
    "Dann ist es einfacher, das Jupyter Notebook noch mal ganz neu zu starten, wie wenn wir nie etwas ausgeführt hätten.\n",
    "Dies macht man über `Kernel > Restart Kernel...`, womit sämtliche Variablenbelegungen, Modulimporte etc. resettet werden.\n",
    "Ebenfalls ist diese Option über das Kontextmenü verfügbar, welches sich bei einem Linksklick im Jupyter Notebook öffnet.\n",
    "\n",
    "<img\n",
    "     src=\"Grafiken/restart_kernel.png\" \n",
    "     style=\"width: 400px;\"\n",
    "     />"
   ]
  },
  {
   "cell_type": "markdown",
   "id": "e7f716c6-45d2-4b0b-b6c2-1f0b98b2b945",
   "metadata": {},
   "source": [
    "<a rel=\"license\" href=\"http://creativecommons.org/licenses/by/4.0/\"><img alt=\"Creative Commons Lizenzvertrag\" style=\"border-width:0; display:inline\" src=\"https://i.creativecommons.org/l/by/4.0/88x31.png\" /></a> &nbsp;&nbsp;&nbsp;&nbsp;Dieses Werk von Marvin Kastner ist lizenziert unter einer <a rel=\"license\" href=\"http://creativecommons.org/licenses/by/4.0/\">Creative Commons Namensnennung 4.0 International Lizenz</a>."
   ]
  }
 ],
 "metadata": {
  "kernelspec": {
   "display_name": "Python 3 (ipykernel)",
   "language": "python",
   "name": "python3"
  },
  "language_info": {
   "codemirror_mode": {
    "name": "ipython",
    "version": 3
   },
   "file_extension": ".py",
   "mimetype": "text/x-python",
   "name": "python",
   "nbconvert_exporter": "python",
   "pygments_lexer": "ipython3",
   "version": "3.13.1"
  },
  "toc-autonumbering": true
 },
 "nbformat": 4,
 "nbformat_minor": 5
}
